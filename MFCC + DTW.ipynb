{
 "metadata": {
  "name": "",
  "signature": "sha256:eeb8da07664de8554f56d7ebfc012ae6b035cb5e444ae80014e24698571c3d86"
 },
 "nbformat": 3,
 "nbformat_minor": 0,
 "worksheets": [
  {
   "cells": [
    {
     "cell_type": "heading",
     "level": 1,
     "metadata": {},
     "source": [
      "Using DTW to compare sounds "
     ]
    },
    {
     "cell_type": "markdown",
     "metadata": {},
     "source": [
      "Using [librosa](https://github.com/bmcfee/librosa/) for instance, you can easily extract the MFCC of sound."
     ]
    },
    {
     "cell_type": "heading",
     "level": 3,
     "metadata": {},
     "source": [
      "Compute the MFCCs of two sounds"
     ]
    },
    {
     "cell_type": "code",
     "collapsed": false,
     "input": [
      "import librosa\n",
      "\n",
      "y1, sr1 = librosa.load('hello_1.wav')\n",
      "y2, sr2 = librosa.load('hello_2.wav')"
     ],
     "language": "python",
     "metadata": {},
     "outputs": [
      {
       "output_type": "stream",
       "stream": "stderr",
       "text": [
        "/usr/local/lib/python2.7/site-packages/librosa/core.py:25: UserWarning: Could not import scikits.samplerate. Falling back to scipy.signal\n",
        "  'Falling back to scipy.signal')\n"
       ]
      }
     ],
     "prompt_number": 1
    },
    {
     "cell_type": "code",
     "collapsed": false,
     "input": [
      "%pylab inline\n",
      "\n",
      "subplot(1, 2, 1)\n",
      "mfcc1 = librosa.feature.mfcc(y1, sr1)\n",
      "librosa.display.specshow(mfcc1)\n",
      "\n",
      "subplot(1, 2, 2)\n",
      "mfcc2 = librosa.feature.mfcc(y2, sr2)\n",
      "librosa.display.specshow(mfcc2)"
     ],
     "language": "python",
     "metadata": {},
     "outputs": [
      {
       "output_type": "stream",
       "stream": "stdout",
       "text": [
        "Populating the interactive namespace from numpy and matplotlib\n"
       ]
      },
      {
       "metadata": {},
       "output_type": "pyout",
       "prompt_number": 2,
       "text": [
        "<matplotlib.image.AxesImage at 0x115acb890>"
       ]
      },
      {
       "metadata": {},
       "output_type": "display_data",
       "png": "[encoded data removed]",
       "text": [
        "<matplotlib.figure.Figure at 0x114757a90>"
       ]
      }
     ],
     "prompt_number": 2
    },
    {
     "cell_type": "heading",
     "level": 3,
     "metadata": {},
     "source": [
      "Compare them using DTW"
     ]
    },
    {
     "cell_type": "code",
     "collapsed": false,
     "input": [
      "from dtw import dtw"
     ],
     "language": "python",
     "metadata": {},
     "outputs": [],
     "prompt_number": 5
    },
    {
     "cell_type": "code",
     "collapsed": false,
     "input": [
      "dist, cost, path = dtw(mfcc1.T, mfcc2.T)"
     ],
     "language": "python",
     "metadata": {},
     "outputs": [],
     "prompt_number": 10
    },
    {
     "cell_type": "code",
     "collapsed": false,
     "input": [
      "imshow(cost.T, origin='lower', cmap=cm.gray, interpolation='nearest')\n",
      "plot(path[0], path[1], 'w')\n",
      "xlim((-0.5, cost.shape[0]-0.5))\n",
      "ylim((-0.5, cost.shape[1]-0.5))"
     ],
     "language": "python",
     "metadata": {},
     "outputs": [
      {
       "metadata": {},
       "output_type": "pyout",
       "prompt_number": 11,
       "text": [
        "(-0.5, 72.5)"
       ]
      },
      {
       "metadata": {},
       "output_type": "display_data",
       "png": "[encoded data removed]",
       "text": [
        "<matplotlib.figure.Figure at 0x10ffda050>"
       ]
      }
     ],
     "prompt_number": 11
    },
    {
     "cell_type": "code",
     "collapsed": false,
     "input": [
      "y3, sr3 = librosa.load('location.wav')\n",
      "mfcc3 = librosa.feature.mfcc(y3, sr3)\n",
      "\n",
      "print dtw(mfcc1.T, mfcc2.T)[0]\n",
      "print dtw(mfcc1.T, mfcc3.T)[0]\n",
      "print dtw(mfcc2.T, mfcc3.T)[0]"
     ],
     "language": "python",
     "metadata": {},
     "outputs": [
      {
       "output_type": "stream",
       "stream": "stdout",
       "text": [
        "35262.7740175\n",
        "23722.0308843\n",
        "44265.9315223"
       ]
      },
      {
       "output_type": "stream",
       "stream": "stdout",
       "text": [
        "\n"
       ]
      }
     ],
     "prompt_number": 17
    },
    {
     "cell_type": "code",
     "collapsed": false,
     "input": [],
     "language": "python",
     "metadata": {},
     "outputs": []
    }
   ],
   "metadata": {}
  }
 ]
}